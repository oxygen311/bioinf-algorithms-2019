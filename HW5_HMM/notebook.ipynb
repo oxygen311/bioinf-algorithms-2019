{
 "cells": [
  {
   "cell_type": "markdown",
   "metadata": {
    "collapsed": true,
    "pycharm": {
     "name": "#%% md\n"
    }
   },
   "source": [
    "## 1. Монета (10 баллов)\n",
    "\n",
    "Крупье выбирает монету из двух в начале с равной вероятностью (0.5). \n",
    "\n",
    "Вероятности выпадения орла и решки на правильной монете - одинаковые (0.5).\n",
    "\n",
    "Вероятность выпадения орла на неправильной монете - 0.9, решки - 0.1.\n",
    "\n",
    "Крупье начинает подкидывать монету и выпадают только орлы.\n",
    "\n",
    "После какого выпадения можно с уверенностью 95% говорить, что крупье выбрал неправильную монету."
   ]
  },
  {
   "cell_type": "markdown",
   "source": [
    "Вероятность подкинуть $k$ орлов подряд в обычной монете:\n",
    "$$P(O_k) = 0.5^k$$\n",
    "\n",
    "Нужно найти такое минимальное $k$, что:\n",
    "$$0.5^k \\leq 0.05$$\n",
    "$$k \\geq \\log_{0.5} 0.05$$\n",
    "$$k = \\lceil 4.32 \\rceil = 5$$\n",
    "\n",
    "\n",
    "## 1. PAM (10 баллов)\n",
    "\n",
    "Выведите формулу для коэффициентов при возведении в n-ую степень следующей матрицы:\n",
    "$$PAM = \\begin{bmatrix}\n",
    "    1-3a & a & a & a\\\\\n",
    "    a & 1-3a & a & a\\\\\n",
    "    a & a & 1-3a & a\\\\\n",
    "    a & a & a & 1-3a\\\\\n",
    "\\end{bmatrix}$$\n"
   ],
   "metadata": {
    "collapsed": false
   }
  }
 ],
 "metadata": {
  "kernelspec": {
   "display_name": "Python 3",
   "language": "python",
   "name": "python3"
  },
  "language_info": {
   "codemirror_mode": {
    "name": "ipython",
    "version": 2
   },
   "file_extension": ".py",
   "mimetype": "text/x-python",
   "name": "python",
   "nbconvert_exporter": "python",
   "pygments_lexer": "ipython2",
   "version": "2.7.6"
  },
  "pycharm": {
   "stem_cell": {
    "cell_type": "raw",
    "source": [],
    "metadata": {
     "collapsed": false
    }
   }
  }
 },
 "nbformat": 4,
 "nbformat_minor": 0
}