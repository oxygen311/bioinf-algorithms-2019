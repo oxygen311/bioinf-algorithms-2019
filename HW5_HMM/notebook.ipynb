{
 "cells": [
  {
   "cell_type": "markdown",
   "metadata": {
    "collapsed": true,
    "pycharm": {
     "name": "#%% md\n"
    }
   },
   "source": [
    "## 1. Монета (10 баллов)\n",
    "\n",
    "Крупье выбирает монету из двух в начале с равной вероятностью (0.5). \n",
    "\n",
    "Вероятности выпадения орла и решки на правильной монете - одинаковые (0.5).\n",
    "\n",
    "Вероятность выпадения орла на неправильной монете - 0.9, решки - 0.1.\n",
    "\n",
    "Крупье начинает подкидывать монету и выпадают только орлы.\n",
    "\n",
    "После какого выпадения можно с уверенностью 95% говорить, что крупье выбрал неправильную монету."
   ]
  },
  {
   "cell_type": "markdown",
   "source": [
    "Вероятность подкинуть $k$ орлов подряд в обычной монете:\n",
    "$$P(O_k) = 0.5^k$$\n",
    "\n",
    "Нужно найти такое минимальное $k$, что:  \n",
    "$$0.5^k \\leq 0.05$$  \n",
    "$$k \\geq \\log_{0.5} 0.05$$  \n",
    "$$k = \\lceil 4.32 \\rceil = 5$$"
   ],
   "metadata": {
    "collapsed": false
   }
  },
  {
   "cell_type": "markdown",
   "source": [
    "## 1. PAM (10 баллов)\n",
    "\n",
    "Выведите формулу для коэффициентов при возведении в n-ую степень следующей матрицы:  \n",
    "$$PAM = \\begin{bmatrix}\n",
    "    1-3a & a & a & a\\\\\n",
    "    a & 1-3a & a & a\\\\\n",
    "    a & a & 1-3a & a\\\\\n",
    "    a & a & a & 1-3a\\\\\n",
    "\\end{bmatrix}$$"
   ],
   "metadata": {
    "collapsed": false
   }
  },
  {
   "cell_type": "markdown",
   "source": [
    "$$PAM^n = \\begin{bmatrix}\n",
    "    - \\frac {-1^{n}} 4 - \\frac 3 4 (4a-1)^n & \\frac 1 4 - \\frac {-1^n} 4 (4a-1)^n & \\frac 1 4 - \\frac {-1^n} 4 (4a-1)^n & \\frac 1 4 - \\frac {-1^n} 4 (4a-1)^n\\\\\n",
    "    \\frac 1 4 - \\frac {-1^n} 4 (4a-1)^n & - \\frac {-1^{n}} 4 - \\frac 3 4 (4a-1)^n & \\frac 1 4 - \\frac {-1^n} 4 (4a-1)^n & \\frac 1 4 - \\frac {-1^n} 4 (4a-1)^n\\\\\n",
    "    \\frac 1 4 - \\frac {-1^n} 4 (4a-1)^n & \\frac 1 4 - \\frac {-1^n} 4 (4a-1)^n & - \\frac {-1^{n}} 4 - \\frac 3 4 (4a-1)^n & \\frac 1 4 - \\frac {-1^n} 4 (4a-1)^n\\\\\n",
    "    \\frac 1 4 - \\frac {-1^n} 4 (4a-1)^n & \\frac 1 4 - \\frac {-1^n} 4 (4a-1)^n & \\frac 1 4 - \\frac {-1^n} 4 (4a-1)^n & - \\frac {-1^{n}} 4 - \\frac 3 4 (4a-1)^n\\\\\n",
    "\\end{bmatrix}$$"
   ],
   "metadata": {
    "collapsed": false,
    "pycharm": {
     "name": "#%% md\n"
    }
   }
  },
  {
   "cell_type": "markdown",
   "source": [
    "## Алгоритм Витерби + FB (22 балла)\n",
    "Реализуйте алгоритмы Витерби (выводящий по последовательности открытых состояний наиболее вероятную последовательность скрытых) \n",
    "и FB (выводящий суммарные вероятности для состояний по позициям). \n",
    "\n",
    "Последовательность для обоих тестов: ОРОРОРООРРРРРРРРРРОООООООО\n",
    "\n",
    "Начальные вероятности (π) в обоих тестах - 0.5."
   ],
   "metadata": {
    "collapsed": false,
    "pycharm": {
     "name": "#%% md\n"
    }
   }
  },
  {
   "cell_type": "code",
   "execution_count": 1,
   "outputs": [],
   "source": [
    "import numpy as np"
   ],
   "metadata": {
    "collapsed": false,
    "pycharm": {
     "name": "#%%\n",
     "is_executing": false
    }
   }
  },
  {
   "cell_type": "code",
   "execution_count": 2,
   "outputs": [],
   "source": [
    "def viterbi(a, b, pi, seq):\n",
    "    len_t, k = len(seq), len(b)\n",
    "    pss = np.zeros((k, len_t))\n",
    "    prev = np.zeros((k, len_t)).astype(int)\n",
    "    \n",
    "    # algorithm\n",
    "    for j in range(k):\n",
    "        pss[j, 0] = b[j][seq[0]] * pi[j]\n",
    "        \n",
    "    for t in range(1, len_t):\n",
    "        for j in range(k):\n",
    "            tmps = [pss[i, t - 1] * a[i, j] * b[j][seq[t]] for i in range(k)]\n",
    "            pss[j, t] = max(tmps)\n",
    "            prev[j, t] = np.argmax(tmps)\n",
    "    \n",
    "    #answer recovery\n",
    "    cur_k = np.argmax([pss[i, len_t - 1] for i in range(k)])\n",
    "    cur_t = len_t - 1\n",
    "    ans = [cur_k]\n",
    "    while cur_t > 0:\n",
    "        cur_k = prev[cur_k, cur_t]\n",
    "        ans.append(cur_k)\n",
    "        cur_t -= 1\n",
    "\n",
    "    return ans[::-1]\n",
    "\n",
    "pretty_coin_ans_replaces = ['+', '-']\n",
    "pretty_coin_ans = lambda ans: ''.join(map(lambda a: pretty_coin_ans_replaces[a], ans))"
   ],
   "metadata": {
    "collapsed": false,
    "pycharm": {
     "name": "#%%\n",
     "is_executing": false
    }
   }
  },
  {
   "cell_type": "code",
   "execution_count": 3,
   "outputs": [],
   "source": [
    "def forward_backward(a, b, pi, seq):\n",
    "    len_t, k = len(seq), len(b)\n",
    "    alpha, betta = np.zeros((k, len_t)), np.ones((k, len_t))\n",
    "    \n",
    "    for j in range(k):\n",
    "        alpha[j, 0] = b[j][seq[0]] * pi[j]\n",
    "        \n",
    "    for t in range(1, len_t):\n",
    "        for j in range(k):\n",
    "            alpha[j, t] = sum([alpha[i, t - 1] * a[i, j] * b[j][seq[t]] for i in range(k)])\n",
    "            \n",
    "    for t in reversed(range(len_t - 1)):\n",
    "        for i in range(k):\n",
    "            betta[i, t] = sum([betta[j, t + 1] * a[i, j] * b[j][seq[t + 1]] for j in range(k)])\n",
    "    \n",
    "    sum_alpha_i_T = np.sum([alpha[i, len_t - 1] for i in range (k)])\n",
    "    return alpha * betta / sum_alpha_i_T\n",
    "    "
   ],
   "metadata": {
    "collapsed": false,
    "pycharm": {
     "name": "#%%\n",
     "is_executing": false
    }
   }
  },
  {
   "cell_type": "markdown",
   "source": [
    "### Тест 1\n",
    "\n",
    "a11 = 0.8  \n",
    "a12 = 0.2  \n",
    "a22 = 0.8  \n",
    "a21 = 0.2  \n",
    "b1(O) = 0.5  \n",
    "b1(Р) = 0.5  \n",
    "b2(О) = 0.1  \n",
    "b2(Р) = 0.9"
   ],
   "metadata": {
    "collapsed": false,
    "pycharm": {
     "name": "#%% md\n"
    }
   }
  },
  {
   "cell_type": "code",
   "execution_count": 4,
   "outputs": [
    {
     "name": "stdout",
     "text": [
      "OPOPOPOOPPPPPPPPPPOOOOOOOO\n++++++++----------++++++++\n[[0.85956173 0.76609555 0.8783159  0.77939405 0.88686798 0.79512375\n  0.91061422 0.85999559 0.45699127 0.27318414 0.18984842 0.15315539\n  0.13940407 0.13971214 0.15427858 0.19251224 0.27910923 0.47000478\n  0.88850328 0.96461882 0.97845654 0.98093931 0.98120371 0.98022273\n  0.97438637 0.94221681]\n [0.14043827 0.23390445 0.1216841  0.22060595 0.11313202 0.20487625\n  0.08938578 0.14000441 0.54300873 0.72681586 0.81015158 0.84684461\n  0.86059593 0.86028786 0.84572142 0.80748776 0.72089077 0.52999522\n  0.11149672 0.03538118 0.02154346 0.01906069 0.01879629 0.01977727\n  0.02561363 0.05778319]]\n"
     ],
     "output_type": "stream"
    }
   ],
   "source": [
    "a = np.array([\n",
    "    [0.8, 0.2],\n",
    "    [0.2, 0.8]\n",
    "])\n",
    "\n",
    "b = [\n",
    "    {'O': 0.5, 'P':0.5},\n",
    "    {'O': 0.1, 'P':0.9}\n",
    "]\n",
    "\n",
    "seq = 'OPOPOPOOPPPPPPPPPPOOOOOOOO'\n",
    "\n",
    "pi = [0.5, 0.5]\n",
    "\n",
    "v1 = viterbi(a, b, pi, seq)\n",
    "print(seq)\n",
    "print(pretty_coin_ans(v1))\n",
    "print(forward_backward(a, b, pi, seq))"
   ],
   "metadata": {
    "collapsed": false,
    "pycharm": {
     "name": "#%%\n",
     "is_executing": false
    }
   }
  },
  {
   "cell_type": "markdown",
   "source": [
    "### Тест 2\n",
    "\n",
    "a11 = 0.5  \n",
    "a12 = 0.5  \n",
    "a22 = 0.5  \n",
    "a21 = 0.5  \n",
    "b1(O) = 0.5  \n",
    "b1(Р) = 0.5  \n",
    "b2(О) = 0.51  \n",
    "b2(Р) = 0.49"
   ],
   "metadata": {
    "collapsed": false
   }
  },
  {
   "cell_type": "code",
   "execution_count": 5,
   "outputs": [
    {
     "name": "stdout",
     "text": [
      "OPOPOPOOPPPPPPPPPPOOOOOOOO\n-+-+-+--++++++++++--------\n[[0.4950495  0.50505051 0.4950495  0.50505051 0.4950495  0.50505051\n  0.4950495  0.4950495  0.50505051 0.50505051 0.50505051 0.50505051\n  0.50505051 0.50505051 0.50505051 0.50505051 0.50505051 0.50505051\n  0.4950495  0.4950495  0.4950495  0.4950495  0.4950495  0.4950495\n  0.4950495  0.4950495 ]\n [0.5049505  0.49494949 0.5049505  0.49494949 0.5049505  0.49494949\n  0.5049505  0.5049505  0.49494949 0.49494949 0.49494949 0.49494949\n  0.49494949 0.49494949 0.49494949 0.49494949 0.49494949 0.49494949\n  0.5049505  0.5049505  0.5049505  0.5049505  0.5049505  0.5049505\n  0.5049505  0.5049505 ]]\n"
     ],
     "output_type": "stream"
    }
   ],
   "source": [
    "a = np.array([\n",
    "    [0.5, 0.5],\n",
    "    [0.5, 0.5]\n",
    "])\n",
    "\n",
    "b = [\n",
    "    {'O': 0.5, 'P':0.5},\n",
    "    {'O': 0.51, 'P':0.49}\n",
    "]\n",
    "\n",
    "seq = 'OPOPOPOOPPPPPPPPPPOOOOOOOO'\n",
    "\n",
    "pi = [0.5, 0.5]\n",
    "\n",
    "v1 = viterbi(a, b, pi, seq)\n",
    "print(seq)\n",
    "print(pretty_coin_ans(v1))\n",
    "print(forward_backward(a, b, pi, seq))"
   ],
   "metadata": {
    "collapsed": false,
    "pycharm": {
     "name": "#%%\n",
     "is_executing": false
    }
   }
  }
 ],
 "metadata": {
  "kernelspec": {
   "display_name": "Python 3",
   "language": "python",
   "name": "python3"
  },
  "language_info": {
   "codemirror_mode": {
    "name": "ipython",
    "version": 2
   },
   "file_extension": ".py",
   "mimetype": "text/x-python",
   "name": "python",
   "nbconvert_exporter": "python",
   "pygments_lexer": "ipython2",
   "version": "2.7.6"
  },
  "pycharm": {
   "stem_cell": {
    "cell_type": "raw",
    "source": [],
    "metadata": {
     "collapsed": false
    }
   }
  }
 },
 "nbformat": 4,
 "nbformat_minor": 0
}