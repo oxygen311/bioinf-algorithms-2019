{
 "cells": [
  {
   "cell_type": "markdown",
   "metadata": {
    "collapsed": true,
    "pycharm": {
     "name": "#%% md\n"
    }
   },
   "source": [
    "## 1. Монета (10 баллов)\n",
    "\n",
    "Крупье выбирает монету из двух в начале с равной вероятностью (0.5). \n",
    "\n",
    "Вероятности выпадения орла и решки на правильной монете - одинаковые (0.5).\n",
    "\n",
    "Вероятность выпадения орла на неправильной монете - 0.9, решки - 0.1.\n",
    "\n",
    "Крупье начинает подкидывать монету и выпадают только орлы.\n",
    "\n",
    "После какого выпадения можно с уверенностью 95% говорить, что крупье выбрал неправильную монету."
   ]
  },
  {
   "cell_type": "markdown",
   "metadata": {},
   "source": [
    "### Решение\n",
    "\n",
    "Вероятность подкинуть $k$ орлов подряд в неправильной монете:\n",
    "$$P(O_k|L) = 0.9^k$$\n",
    "\n",
    "Вероятность подкинуть $k$ орлов подряд по формуле полной вероятности:\n",
    "$$P(O_k) = 0.5 \\cdot 0.5^k + 0.5 \\cdot 0.9^k$$\n",
    "\n",
    "По формуле Байеса:\n",
    "$$P(L|O_k) = \\frac {P(O_k|L) P(L)} {P(O_k)}$$\n",
    "\n",
    "Нужно найти такое минимальное $k$, что $P(L|O_k) \\geq 0.95$:\n",
    "$$ \\frac {0.9^k 0.5} {0.5 \\cdot 0.5^k + 0.5 \\cdot 0.9^k} \\geq 0.95$$\n",
    "$$ 0.9^k 0.5 {0.5 \\cdot 0.5^k + 0.5 \\cdot 0.9^k} \\geq 0.95$$\n",
    "$$k \\geq 5.009$$\n",
    "$$k = \\lceil 5.009 \\rceil = 6$$"
   ]
  },
  {
   "cell_type": "markdown",
   "metadata": {},
   "source": [
    "## 1. PAM (10 баллов)\n",
    "\n",
    "Выведите формулу для коэффициентов при возведении в n-ую степень следующей матрицы:  \n",
    "$$PAM = \\begin{bmatrix}\n",
    "    1-3a & a & a & a\\\\\n",
    "    a & 1-3a & a & a\\\\\n",
    "    a & a & 1-3a & a\\\\\n",
    "    a & a & a & 1-3a\\\\\n",
    "\\end{bmatrix}$$"
   ]
  },
  {
   "cell_type": "markdown",
   "metadata": {
    "pycharm": {
     "name": "#%% md\n"
    }
   },
   "source": [
    "### Решение\n",
    "\n",
    "$$PAM^n = \\begin{bmatrix}\n",
    "    \\frac 1 4 + (-1)^{n} \\frac 3 4 (4a-1)^n & \\frac 1 4 - \\frac {-1^n} 4 (4a-1)^n & \\frac 1 4 - \\frac {-1^n} 4 (4a-1)^n & \\frac 1 4 - \\frac {-1^n} 4 (4a-1)^n\\\\\n",
    "    \\frac 1 4 - \\frac {-1^n} 4 (4a-1)^n & \\frac 1 4 + (-1)^{n} \\frac 3 4 (4a-1)^n & \\frac 1 4 - \\frac {-1^n} 4 (4a-1)^n & \\frac 1 4 - \\frac {-1^n} 4 (4a-1)^n\\\\\n",
    "    \\frac 1 4 - \\frac {-1^n} 4 (4a-1)^n & \\frac 1 4 - \\frac {-1^n} 4 (4a-1)^n & \\frac 1 4 + (-1)^{n} \\frac 3 4 (4a-1)^n & \\frac 1 4 - \\frac {-1^n} 4 (4a-1)^n\\\\\n",
    "    \\frac 1 4 - \\frac {-1^n} 4 (4a-1)^n & \\frac 1 4 - \\frac {-1^n} 4 (4a-1)^n & \\frac 1 4 - \\frac {-1^n} 4 (4a-1)^n & \\frac 1 4 + (-1)^{n} \\frac 3 4 (4a-1)^n\\\\\n",
    "\\end{bmatrix}$$\n",
    "\n",
    "Докажем по индукции.\n",
    "- База $n=1$ очевидно выполняется;\n",
    "- Переход. Пусть выполняется для степени $n$, докажем для степени $n+1$:\n",
    "\n",
    "$$PAM^{n+1} = \\begin{bmatrix}\n",
    "    \\frac 1 4 + (-1)^{n} \\frac 3 4 (4a-1)^n & \\frac 1 4 - \\frac {-1^n} 4 (4a-1)^n & \\frac 1 4 - \\frac {-1^n} 4 (4a-1)^n & \\frac 1 4 - \\frac {-1^n} 4 (4a-1)^n\\\\\n",
    "    \\frac 1 4 - \\frac {-1^n} 4 (4a-1)^n & \\frac 1 4 + (-1)^{n} \\frac 3 4 (4a-1)^n & \\frac 1 4 - \\frac {-1^n} 4 (4a-1)^n & \\frac 1 4 - \\frac {-1^n} 4 (4a-1)^n\\\\\n",
    "    \\frac 1 4 - \\frac {-1^n} 4 (4a-1)^n & \\frac 1 4 - \\frac {-1^n} 4 (4a-1)^n & \\frac 1 4 + (-1)^{n} \\frac 3 4 (4a-1)^n & \\frac 1 4 - \\frac {-1^n} 4 (4a-1)^n\\\\\n",
    "    \\frac 1 4 - \\frac {-1^n} 4 (4a-1)^n & \\frac 1 4 - \\frac {-1^n} 4 (4a-1)^n & \\frac 1 4 - \\frac {-1^n} 4 (4a-1)^n & \\frac 1 4 + (-1)^{n} \\frac 3 4 (4a-1)^n\\\\\n",
    "\\end{bmatrix}\n",
    "\\cdot \n",
    "\\begin{bmatrix}\n",
    "    1-3a & a & a & a\\\\\n",
    "    a & 1-3a & a & a\\\\\n",
    "    a & a & 1-3a & a\\\\\n",
    "    a & a & a & 1-3a\\\\\n",
    "\\end{bmatrix}$$\n",
    "\n",
    "Рассмотрим отдельно элемент диагонали, они очевидно равны между собой:\n",
    "$$a_{ii} \n",
    "= (1-3a)\\left(\\frac 1 4 + (-1)^{n} \\frac 3 4 (4a-1)^n\\right) + 3a \\left(\\frac 1 4 - \\frac {-1^n} 4 (4a-1)^n\\right) = $$\n",
    "$$ = \\frac 1 4 + (-1)^{n} \\frac 3 4 (4a-1)^n + 3a \\left(\\frac 1 4 - \\frac {-1^n} 4 (4a-1)^n - \\frac 1 4 - (-1)^{n} \\frac 3 4 (4a-1)^n\\right) = $$\n",
    "$$ = \\frac 1 4 + (-1)^{n} \\frac 3 4 (4a-1)^n - \\frac {(-1)^n 3a} 4 (4a-1)^n - (-1)^{n} \\frac {9a} 4 (4a-1)^n = $$\n",
    "$$ = \\frac 1 4 +  (-1)^{n} \\frac 3 4 ( 1 - a - 3a) (4a - 1)^ n = \\frac 1 4 - (-1)^{n} \\frac 3 4 (4a - 1) (4a - 1)^ n = \\frac 1 4 + (-1)^{n + 1} \\frac 3 4 (4a - 1)^ {n+1}$$\n",
    "\n",
    "Аналогично рассмотрим элементы вне диагонали:\n",
    "$$a_{ij, i \\neq j}\n",
    "= a \\left(\\frac 1 4 + (-1)^{n} \\frac 3 4 (4a-1)^n\\right) + (1 - a) \\left(\\frac 1 4 - \\frac {-1^n} 4 (4a-1)^n\\right) =\n",
    "$$ \n",
    "$$ = \\frac 1 4 - \\frac {-1^n} 4 (4a-1)^n + a \\left(\\frac 1 4 + (-1)^{n} \\frac 3 4 (4a-1)^n - \\frac 1 4 + \\frac {-1^n} 4 (4a-1)^n\\right) =$$\n",
    "$$ = \\frac 1 4 - \\frac {-1^n} 4 (4a-1)^n + (-1)^{n} \\frac {3a} 4 (4a-1)^n + a \\frac {-1^n} 4 (4a-1)^n = $$\n",
    "$$ = \\frac 1 4 + (- 1 + 3a + a) \\frac {-1^n} 4 (4a-1)^n \n",
    "= \\frac 1 4 + \\frac {-1^n} 4 (4a-1)^{n+1} = \\frac 1 4 - \\frac {-1^{n+1}} 4 (4a-1)^{n+1}$$\n"
   ]
  },
  {
   "cell_type": "markdown",
   "metadata": {
    "pycharm": {
     "name": "#%% md\n"
    }
   },
   "source": [
    "## Алгоритм Витерби + FB (22 балла)\n",
    "Реализуйте алгоритмы Витерби (выводящий по последовательности открытых состояний наиболее вероятную последовательность скрытых) \n",
    "и FB (выводящий суммарные вероятности для состояний по позициям). \n",
    "\n",
    "Последовательность для обоих тестов: ОРОРОРООРРРРРРРРРРОООООООО\n",
    "\n",
    "Начальные вероятности (π) в обоих тестах - 0.5."
   ]
  },
  {
   "cell_type": "code",
   "execution_count": 1,
   "metadata": {
    "pycharm": {
     "is_executing": false,
     "name": "#%%\n"
    }
   },
   "outputs": [],
   "source": [
    "import numpy as np\n",
    "\n",
    "from collections import defaultdict\n",
    "from pprint import pprint"
   ]
  },
  {
   "cell_type": "code",
   "execution_count": 2,
   "metadata": {
    "pycharm": {
     "is_executing": false,
     "name": "#%%\n"
    }
   },
   "outputs": [],
   "source": [
    "def viterbi(a, b, pi, seq):\n",
    "    len_t, k = len(seq), len(b)\n",
    "    pss = np.zeros((k, len_t))\n",
    "    prev = np.zeros((k, len_t)).astype(int)\n",
    "    \n",
    "    # algorithm\n",
    "    for j in range(k):\n",
    "        pss[j, 0] = b[j][seq[0]] * pi[j]\n",
    "        \n",
    "    for t in range(1, len_t):\n",
    "        for j in range(k):\n",
    "            tmps = [pss[i, t - 1] * a[i, j] * b[j][seq[t]] for i in range(k)]\n",
    "            pss[j, t] = max(tmps)\n",
    "            prev[j, t] = np.argmax(tmps)\n",
    "    \n",
    "    #answer recovery\n",
    "    cur_k = np.argmax([pss[i, len_t - 1] for i in range(k)])\n",
    "    cur_t = len_t - 1\n",
    "    ans = [cur_k]\n",
    "    while cur_t > 0:\n",
    "        cur_k = prev[cur_k, cur_t]\n",
    "        ans.append(cur_k)\n",
    "        cur_t -= 1\n",
    "\n",
    "    return ans[::-1]\n",
    "\n",
    "pretty_coin_ans_replaces = ['+', '-']\n",
    "pretty_coin_ans = lambda ans: ''.join(map(lambda a: pretty_coin_ans_replaces[a], ans))"
   ]
  },
  {
   "cell_type": "code",
   "execution_count": 3,
   "metadata": {
    "pycharm": {
     "is_executing": false,
     "name": "#%%\n"
    }
   },
   "outputs": [],
   "source": [
    "def forward_backward(a, b, pi, seq):\n",
    "    len_t, k = len(seq), len(b)\n",
    "    alpha, betta = np.zeros((k, len_t)), np.ones((k, len_t))\n",
    "    \n",
    "    for j in range(k):\n",
    "        alpha[j, 0] = b[j][seq[0]] * pi[j]\n",
    "        \n",
    "    for t in range(1, len_t):\n",
    "        for j in range(k):\n",
    "            alpha[j, t] = sum([alpha[i, t - 1] * a[i, j] * b[j][seq[t]] for i in range(k)])\n",
    "            \n",
    "    for t in reversed(range(len_t - 1)):\n",
    "        for i in range(k):\n",
    "            betta[i, t] = sum([betta[j, t + 1] * a[i, j] * b[j][seq[t + 1]] for j in range(k)])\n",
    "    \n",
    "    sum_alpha_i_T = np.sum([alpha[i, len_t - 1] for i in range (k)])\n",
    "    return alpha * betta / sum_alpha_i_T\n",
    "    "
   ]
  },
  {
   "cell_type": "markdown",
   "metadata": {
    "pycharm": {
     "name": "#%% md\n"
    }
   },
   "source": [
    "### Тест 1\n",
    "\n",
    "a11 = 0.8  \n",
    "a12 = 0.2  \n",
    "a22 = 0.8  \n",
    "a21 = 0.2  \n",
    "b1(O) = 0.5  \n",
    "b1(Р) = 0.5  \n",
    "b2(О) = 0.1  \n",
    "b2(Р) = 0.9"
   ]
  },
  {
   "cell_type": "code",
   "execution_count": 4,
   "metadata": {
    "pycharm": {
     "is_executing": false,
     "name": "#%%\n"
    }
   },
   "outputs": [
    {
     "name": "stdout",
     "output_type": "stream",
     "text": [
      "OPOPOPOOPPPPPPPPPPOOOOOOOO\n",
      "++++++++----------++++++++\n",
      "[[0.85956173 0.76609555 0.8783159  0.77939405 0.88686798 0.79512375\n",
      "  0.91061422 0.85999559 0.45699127 0.27318414 0.18984842 0.15315539\n",
      "  0.13940407 0.13971214 0.15427858 0.19251224 0.27910923 0.47000478\n",
      "  0.88850328 0.96461882 0.97845654 0.98093931 0.98120371 0.98022273\n",
      "  0.97438637 0.94221681]\n",
      " [0.14043827 0.23390445 0.1216841  0.22060595 0.11313202 0.20487625\n",
      "  0.08938578 0.14000441 0.54300873 0.72681586 0.81015158 0.84684461\n",
      "  0.86059593 0.86028786 0.84572142 0.80748776 0.72089077 0.52999522\n",
      "  0.11149672 0.03538118 0.02154346 0.01906069 0.01879629 0.01977727\n",
      "  0.02561363 0.05778319]]\n"
     ]
    }
   ],
   "source": [
    "a = np.array([\n",
    "    [0.8, 0.2],\n",
    "    [0.2, 0.8]\n",
    "])\n",
    "\n",
    "b = [\n",
    "    {'O': 0.5, 'P':0.5},\n",
    "    {'O': 0.1, 'P':0.9}\n",
    "]\n",
    "\n",
    "seq = 'OPOPOPOOPPPPPPPPPPOOOOOOOO'\n",
    "\n",
    "pi = [0.5, 0.5]\n",
    "\n",
    "v1 = viterbi(a, b, pi, seq)\n",
    "print(seq)\n",
    "print(pretty_coin_ans(v1))\n",
    "print(forward_backward(a, b, pi, seq))"
   ]
  },
  {
   "cell_type": "markdown",
   "metadata": {},
   "source": [
    "### Тест 2\n",
    "\n",
    "a11 = 0.5  \n",
    "a12 = 0.5  \n",
    "a22 = 0.5  \n",
    "a21 = 0.5  \n",
    "b1(O) = 0.5  \n",
    "b1(Р) = 0.5  \n",
    "b2(О) = 0.51  \n",
    "b2(Р) = 0.49"
   ]
  },
  {
   "cell_type": "code",
   "execution_count": 5,
   "metadata": {
    "pycharm": {
     "is_executing": false,
     "name": "#%%\n"
    }
   },
   "outputs": [
    {
     "name": "stdout",
     "output_type": "stream",
     "text": [
      "OPOPOPOOPPPPPPPPPPOOOOOOOO\n",
      "-+-+-+--++++++++++--------\n",
      "[[0.4950495  0.50505051 0.4950495  0.50505051 0.4950495  0.50505051\n",
      "  0.4950495  0.4950495  0.50505051 0.50505051 0.50505051 0.50505051\n",
      "  0.50505051 0.50505051 0.50505051 0.50505051 0.50505051 0.50505051\n",
      "  0.4950495  0.4950495  0.4950495  0.4950495  0.4950495  0.4950495\n",
      "  0.4950495  0.4950495 ]\n",
      " [0.5049505  0.49494949 0.5049505  0.49494949 0.5049505  0.49494949\n",
      "  0.5049505  0.5049505  0.49494949 0.49494949 0.49494949 0.49494949\n",
      "  0.49494949 0.49494949 0.49494949 0.49494949 0.49494949 0.49494949\n",
      "  0.5049505  0.5049505  0.5049505  0.5049505  0.5049505  0.5049505\n",
      "  0.5049505  0.5049505 ]]\n"
     ]
    }
   ],
   "source": [
    "a = np.array([\n",
    "    [0.5, 0.5],\n",
    "    [0.5, 0.5]\n",
    "])\n",
    "\n",
    "b = [\n",
    "    {'O': 0.5, 'P':0.5},\n",
    "    {'O': 0.51, 'P':0.49}\n",
    "]\n",
    "\n",
    "seq = 'OPOPOPOOPPPPPPPPPPOOOOOOOO'\n",
    "\n",
    "pi = [0.5, 0.5]\n",
    "\n",
    "v1 = viterbi(a, b, pi, seq)\n",
    "print(seq)\n",
    "print(pretty_coin_ans(v1))\n",
    "print(forward_backward(a, b, pi, seq))"
   ]
  },
  {
   "cell_type": "code",
   "execution_count": 6,
   "metadata": {},
   "outputs": [],
   "source": [
    "def forward_backward_alignment(a, b, seq1, seq2):\n",
    "    def print_ans(cur_st):\n",
    "        for i1 in range(l1):\n",
    "            for i2 in range(l2):\n",
    "                norm = sum([alpha[i1][i2][st] * betta[i1][i2][st] for st in states])\n",
    "                v = (alpha[i1][i2][cur_st] * betta[i1][i2][cur_st]) / norm\n",
    "\n",
    "                print(\"{0:.3f}\".format(v), end=' ')\n",
    "            print()\n",
    "        \n",
    "    len_t, l1, l2 = len(b), len(seq1), len(seq2)\n",
    "    \n",
    "    # alphas\n",
    "    alpha = [[defaultdict(lambda: 0) for x in range(l2)] for y in range(l1)] \n",
    "    \n",
    "    \n",
    "    for i1 in range(l1):\n",
    "        alpha[i1][0]['m'] = (b['match'] if seq1[i1] == seq2[0] else b['mismatch']) * (1 - dlt1 - dlt2)\n",
    "        alpha[i1][0]['g_d'] = b['gap'] * dlt1\n",
    "        alpha[i1][0]['g_r'] = b['gap'] * dlt2\n",
    "        \n",
    "    for i2 in range(l2):\n",
    "        alpha[0][i2]['m'] = (b['match'] if seq1[0] == seq2[i2] else b['mismatch']) * (1 - dlt1 - dlt2)\n",
    "        alpha[0][i2]['g_d'] = b['gap'] * dlt1\n",
    "        alpha[0][i2]['g_r'] = b['gap'] * dlt2\n",
    "        \n",
    "    for i1 in range(1, l1):\n",
    "        for i2 in range(1, l2):\n",
    "            if i1 == 0 and i2 == 0: continue\n",
    "                \n",
    "            if i1 > 0 and i2 > 0:\n",
    "                tmp = sum([a[ps]['m'] * alpha[i1 - 1][i2 - 1][ps] for ps in states])\n",
    "                alpha[i1][i2]['m'] = (b['match'] if seq1[i1 - 1] == seq2[i2 - 1] else b['mismatch']) * tmp\n",
    "                \n",
    "            if i1 > 0:\n",
    "                tmp = sum([a[ps]['g_d'] * alpha[i1 - 1][i2][ps] for ps in states])\n",
    "                alpha[i1][i2]['g_d'] = b['gap'] * tmp\n",
    "                \n",
    "            if i2 > 0:\n",
    "                tmp = sum([a[ps]['g_r'] * alpha[i1][i2 - 1][ps] for ps in states])\n",
    "                alpha[i1][i2]['g_r'] = b['gap'] * tmp\n",
    "                \n",
    "    # bettas\n",
    "    betta = [[defaultdict(lambda: 0) for x in range(l2)] for y in range(l1)] \n",
    "    \n",
    "    for i1 in range(l1):\n",
    "        betta[i1 - 1][l2 - 1]['m'] = betta[i1 - 1][l2 - 1]['g_d'] = betta[i1 - 1][l2 - 1]['g_r'] = a['tau']\n",
    "        \n",
    "    for i2 in range(l2):\n",
    "        betta[l1 - 1][i2 - 1]['m'] = betta[l1 - 1][i2 - 1]['g_d'] = betta[l1 - 1][i2 - 1]['g_r'] = a['tau']\n",
    "        \n",
    "    \n",
    "    for i1 in reversed(range(l1 - 1)):\n",
    "        for i2 in reversed(range(l2 - 1)):\n",
    "            if i1 == l1 - 1 and i2 == l2 - 1: continue\n",
    "                \n",
    "            if i1 < l1 - 1 and i2 < l2 - 1:\n",
    "                is_m = (b['match'] if seq1[i1] == seq2[i2] else b['mismatch'])\n",
    "                betta[i1][i2]['m']   += is_m * a['m']['m']   * betta[i1 + 1][i2 + 1]['m']\n",
    "                betta[i1][i2]['g_d'] += is_m * a['g_d']['m'] * betta[i1 + 1][i2 + 1]['m']\n",
    "                betta[i1][i2]['g_r'] += is_m * a['g_r']['m'] * betta[i1 + 1][i2 + 1]['m']\n",
    "                \n",
    "            if i1 < l1 - 1:\n",
    "                g = b['gap']\n",
    "                betta[i1][i2]['m']   += g * a['m']  ['g_d'] * betta[i1 + 1][i2]['g_d']\n",
    "                betta[i1][i2]['g_d'] += g * a['g_d']['g_d'] * betta[i1 + 1][i2]['g_d']\n",
    "                betta[i1][i2]['g_r'] += g * a['g_r']['g_d'] * betta[i1 + 1][i2]['g_d']\n",
    "                \n",
    "            if i2 < l2 - 1:\n",
    "                g = b['gap']\n",
    "                betta[i1][i2]['m']   += g * a['m']  ['g_r'] * betta[i1][i2 + 1]['g_r']\n",
    "                betta[i1][i2]['g_d'] += g * a['g_d']['g_r'] * betta[i1][i2 + 1]['g_r']\n",
    "                betta[i1][i2]['g_r'] += g * a['g_r']['g_r'] * betta[i1][i2 + 1]['g_r']\n",
    "            \n",
    "    for st in states:\n",
    "        print(f'Matrix({st}):')\n",
    "        print_ans(st)\n",
    "        print()\n",
    "\n",
    "states = ['m', 'g_r', 'g_d']\n",
    "\n",
    "dlt1 = dlt2 = 0.1\n",
    "ro1 = ro2 = 0.1\n",
    "eps1 = eps2 = 0.3\n",
    "tau = 0.1\n",
    "\n",
    "a = {'m': { 'm':   1 - dlt1 - dlt2 - tau,\n",
    "            'g_r': dlt1,\n",
    "            'g_d': dlt2\n",
    "          },\n",
    "     'g_r': { 'm':   1 - eps1 - ro2 - tau, \n",
    "              'g_r': eps1,\n",
    "              'g_d': ro2,\n",
    "            },\n",
    "    'g_d':{ 'm':   1 - eps2 - ro1 - tau,\n",
    "            'g_r': ro1,\n",
    "            'g_d': eps2\n",
    "         },\n",
    "     'tau': 0.1\n",
    "    }\n",
    "\n",
    "b = {'match': 0.9, \n",
    "     'mismatch': 0.1,\n",
    "     'gap': 1,\n",
    "    }"
   ]
  },
  {
   "cell_type": "markdown",
   "metadata": {},
   "source": [
    "### Тест 1\n",
    "1)  \n",
    "AGAGA  \n",
    "AGAGAGA"
   ]
  },
  {
   "cell_type": "code",
   "execution_count": 7,
   "metadata": {},
   "outputs": [
    {
     "name": "stdout",
     "output_type": "stream",
     "text": [
      "Matrix(m):\n",
      "0.808 0.176 0.805 0.177 0.805 0.198 0.783 \n",
      "0.177 0.867 0.043 0.881 0.045 0.877 0.079 \n",
      "0.806 0.045 0.839 0.042 0.863 0.049 0.853 \n",
      "0.198 0.876 0.048 0.840 0.044 0.853 0.072 \n",
      "0.783 0.079 0.850 0.071 0.831 0.073 0.853 \n",
      "\n",
      "Matrix(g_r):\n",
      "0.094 0.388 0.098 0.434 0.101 0.435 0.109 \n",
      "0.373 0.064 0.355 0.050 0.406 0.056 0.352 \n",
      "0.093 0.519 0.078 0.376 0.051 0.405 0.052 \n",
      "0.365 0.066 0.498 0.074 0.391 0.058 0.370 \n",
      "0.109 0.568 0.094 0.533 0.084 0.403 0.057 \n",
      "\n",
      "Matrix(g_d):\n",
      "0.099 0.436 0.098 0.389 0.094 0.367 0.109 \n",
      "0.450 0.069 0.602 0.069 0.549 0.067 0.569 \n",
      "0.101 0.436 0.083 0.582 0.086 0.547 0.095 \n",
      "0.437 0.058 0.454 0.087 0.565 0.090 0.558 \n",
      "0.109 0.353 0.056 0.396 0.084 0.524 0.090 \n",
      "\n"
     ]
    }
   ],
   "source": [
    "seq1 = 'AGAGA'\n",
    "seq2 = 'AGAGAGA'\n",
    "\n",
    "forward_backward_alignment(a, b, seq1, seq2)"
   ]
  },
  {
   "cell_type": "markdown",
   "metadata": {},
   "source": [
    "### Тест 2\n",
    "1)  \n",
    "ATAGCTACGAC  \n",
    "TGCTAGCTAGC"
   ]
  },
  {
   "cell_type": "code",
   "execution_count": 8,
   "metadata": {},
   "outputs": [
    {
     "name": "stdout",
     "output_type": "stream",
     "text": [
      "Matrix(m):\n",
      "0.190 0.196 0.262 0.179 0.768 0.195 0.254 0.178 0.766 0.206 0.286 \n",
      "0.764 0.046 0.090 0.231 0.062 0.842 0.066 0.212 0.064 0.857 0.122 \n",
      "0.251 0.804 0.046 0.062 0.525 0.046 0.428 0.128 0.561 0.059 0.556 \n",
      "0.178 0.144 0.391 0.116 0.073 0.690 0.111 0.195 0.073 0.684 0.188 \n",
      "0.181 0.102 0.716 0.144 0.070 0.058 0.881 0.082 0.075 0.063 0.863 \n",
      "0.784 0.078 0.055 0.794 0.061 0.047 0.066 0.926 0.050 0.059 0.101 \n",
      "0.192 0.865 0.066 0.055 0.803 0.056 0.051 0.059 0.920 0.049 0.094 \n",
      "0.212 0.069 0.576 0.150 0.094 0.840 0.093 0.054 0.059 0.886 0.084 \n",
      "0.187 0.174 0.134 0.758 0.078 0.087 0.435 0.588 0.056 0.090 0.613 \n",
      "0.207 0.159 0.577 0.070 0.424 0.104 0.620 0.132 0.302 0.065 0.734 \n",
      "0.286 0.210 0.145 0.311 0.197 0.736 0.122 0.340 0.197 0.618 0.130 \n",
      "\n",
      "Matrix(g_r):\n",
      "0.408 0.461 0.399 0.352 0.120 0.491 0.421 0.391 0.129 0.496 0.357 \n",
      "0.128 0.739 0.590 0.222 0.084 0.061 0.706 0.287 0.101 0.050 0.503 \n",
      "0.372 0.108 0.800 0.704 0.105 0.120 0.272 0.476 0.064 0.135 0.143 \n",
      "0.476 0.352 0.319 0.601 0.374 0.042 0.355 0.412 0.234 0.038 0.317 \n",
      "0.332 0.612 0.175 0.580 0.489 0.247 0.036 0.584 0.359 0.139 0.035 \n",
      "0.096 0.769 0.691 0.162 0.689 0.471 0.268 0.032 0.671 0.333 0.110 \n",
      "0.308 0.084 0.775 0.661 0.150 0.721 0.477 0.267 0.036 0.686 0.279 \n",
      "0.316 0.297 0.270 0.512 0.291 0.088 0.723 0.487 0.186 0.049 0.631 \n",
      "0.330 0.476 0.476 0.149 0.562 0.300 0.307 0.219 0.360 0.136 0.152 \n",
      "0.292 0.565 0.287 0.548 0.391 0.377 0.173 0.447 0.288 0.184 0.077 \n",
      "0.357 0.647 0.590 0.472 0.557 0.163 0.531 0.393 0.417 0.104 0.265 \n",
      "\n",
      "Matrix(g_d):\n",
      "0.402 0.343 0.339 0.470 0.112 0.314 0.325 0.431 0.105 0.298 0.357 \n",
      "0.109 0.214 0.320 0.546 0.854 0.097 0.228 0.501 0.835 0.093 0.375 \n",
      "0.377 0.088 0.154 0.234 0.370 0.834 0.300 0.396 0.375 0.807 0.301 \n",
      "0.345 0.504 0.290 0.283 0.553 0.268 0.535 0.393 0.692 0.278 0.495 \n",
      "0.487 0.287 0.109 0.277 0.441 0.695 0.083 0.334 0.566 0.798 0.102 \n",
      "0.120 0.153 0.254 0.044 0.249 0.482 0.666 0.041 0.278 0.608 0.789 \n",
      "0.500 0.051 0.159 0.285 0.047 0.223 0.473 0.674 0.043 0.266 0.626 \n",
      "0.472 0.634 0.154 0.338 0.615 0.072 0.184 0.459 0.756 0.065 0.285 \n",
      "0.483 0.349 0.390 0.093 0.361 0.612 0.258 0.192 0.584 0.774 0.235 \n",
      "0.501 0.276 0.135 0.382 0.185 0.519 0.207 0.420 0.410 0.751 0.190 \n",
      "0.357 0.143 0.265 0.217 0.245 0.101 0.347 0.267 0.387 0.278 0.605 \n",
      "\n"
     ]
    }
   ],
   "source": [
    "seq1 = 'ATAGCTACGAC'\n",
    "seq2 = 'TGCTAGCTAGC'\n",
    "\n",
    "forward_backward_alignment(a, b, seq1, seq2)"
   ]
  },
  {
   "cell_type": "code",
   "execution_count": null,
   "metadata": {},
   "outputs": [],
   "source": []
  }
 ],
 "metadata": {
  "kernelspec": {
   "display_name": "Python 3",
   "language": "python",
   "name": "python3"
  },
  "language_info": {
   "codemirror_mode": {
    "name": "ipython",
    "version": 3
   },
   "file_extension": ".py",
   "mimetype": "text/x-python",
   "name": "python",
   "nbconvert_exporter": "python",
   "pygments_lexer": "ipython3",
   "version": "3.7.4"
  },
  "pycharm": {
   "stem_cell": {
    "cell_type": "raw",
    "metadata": {
     "collapsed": false
    },
    "source": []
   }
  }
 },
 "nbformat": 4,
 "nbformat_minor": 1
}
