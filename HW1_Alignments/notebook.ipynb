{
 "cells": [
  {
   "cell_type": "markdown",
   "source": [
    "## 1. Количество выравниваний (10 баллов).\n",
    "Вспомим про матрицу про подсчёта динамики с лекции. \n",
    "Данная матрица содержит все возможные варианты выравниваний, но некоторые из них эквивалентны, например:\n",
    "\n",
    "<img src=\"https://github.com/oxygen311/bioinf-algorithms-2019/blob/master/HW1_Alignments/images/equivalent-alignment-example.png?raw=true\" alt=\"Equivalent Alignment Example\" width=\"400\">\n",
    "\n",
    "Можно заметить, что на данной матрице \"жестко\" фиксируют выравнивание только диагональные стрелки. \n",
    "Горизонтальные же и вертикальные, которые проходят между ними, можно переставлять как угодно.\n",
    "\n",
    "Без ограничения общности будем считать, что $m < n$. \n",
    "Зафиксируем число диагональных стрелок $i: i \\leq m$.\n",
    "При фиксированном $i$ количнство варинтов расположить стрелок равно $\\binom n i \\binom m i$, для выбора горизонтальных и вертикальныъ координат диагональных стрелок.\n",
    "$i$ может принимать значения от $0$ до $m$, cледовательно итоговый ответ равен:\n",
    "$$\\sum_{i=0}^m \\binom n i \\binom m i = \\binom {n + m} m$$"
   ],
   "metadata": {
    "collapsed": false
   }
  },
  {
   "cell_type": "markdown",
   "source": [
    "## 2. Глобальное выравнивание (Нидлман-Вунш) (14 баллов)\n",
    "Реализовать алгоритм глобального выравнивания, который на вход получает две последовательности, а выдает их оптимальное выравнивание. \n",
    "Фиксированный штраф за несовпадение и гэп и награда 1 за каждое совпадение."
   ],
   "metadata": {
    "collapsed": false
   }
  },
  {
   "cell_type": "code",
   "execution_count": 26,
   "outputs": [],
   "source": [
    "M_INF = -int(1e9)"
   ],
   "metadata": {
    "collapsed": false,
    "pycharm": {
     "name": "#%%\n",
     "is_executing": false
    }
   }
  },
  {
   "cell_type": "code",
   "execution_count": 27,
   "outputs": [],
   "source": [
    "def recover_solution(p, s1, s2, local=False, local_i_start=None, local_j_start=None):\n",
    "    if local:\n",
    "        curr_i, curr_j = local_i_start, local_j_start\n",
    "        ans_s1, ans_s2 = s1[local_i_start:][::-1] + '|', s2[local_j_start:][::-1] + '|'\n",
    "    else:\n",
    "        curr_i, curr_j = len(p) - 1, len(p[0]) - 1\n",
    "        ans_s1, ans_s2 = \"\", \"\"\n",
    "    \n",
    "    while not (curr_i <= 0 and curr_j <= 0):\n",
    "        prev_i, prev_j = p[curr_i][curr_j]\n",
    "        \n",
    "        if local and prev_i == -1 and prev_j == -1:\n",
    "            ans_s1 += '|' + s1[:curr_i][::-1] + ' ' * max(0, curr_j - curr_i)\n",
    "            ans_s2 += '|' + s2[:curr_j][::-1] + ' ' * max(0, curr_i - curr_j)\n",
    "        else:\n",
    "            ans_s1 += s1[curr_i - 1] if curr_i == prev_i + 1 else '-'\n",
    "            ans_s2 += s2[curr_j - 1] if curr_j == prev_j + 1 else '-'\n",
    "        \n",
    "        \n",
    "        curr_i, curr_j = prev_i, prev_j\n",
    "    return ans_s1[::-1], ans_s2[::-1]\n",
    "\n",
    "def argmax_2d_array(bss):\n",
    "    i_max, j_max, v_max = 0, 0, M_INF\n",
    "    for i in range(len(bss)):\n",
    "        for j in range(len(bss[i])):\n",
    "            if bss[i][j] > v_max:\n",
    "                v_max = bss[i][j]\n",
    "                i_max, j_max = i, j\n",
    "    return i_max, j_max\n",
    "\n",
    "def alignment(s1, s2, match=1, mismatch=-1, gap=-1, local=False):\n",
    "    n, m = len(s1), len(s2)\n",
    "    \n",
    "    # initialize\n",
    "    s = [[M_INF  for _ in range(m + 1)] for _ in range(n + 1)]\n",
    "    p = [[(0, 0) for _ in range(m + 1)] for _ in range(n + 1)]\n",
    "    s[0][0] = 0\n",
    "    \n",
    "   # main algorithm\n",
    "    for i in range(n + 1):\n",
    "        for j in range(m + 1):\n",
    "            if local and s[i][j]:\n",
    "                s[i][j] = 0\n",
    "                p[i][j] = (-1, -1)\n",
    "            # diagonal\n",
    "            if i > 0 and j > 0 and s[i - 1][j - 1] + (match if s1[i - 1] == s2[j - 1] else mismatch) > s[i][j]:\n",
    "                s[i][j] = s[i - 1][j - 1] + (match if s1[i - 1] == s2[j - 1] else mismatch)\n",
    "                p[i][j] = (i - 1, j - 1)\n",
    "            # horizontal\n",
    "            if i > 0 and s[i - 1][j] + gap > s[i][j]:\n",
    "                s[i][j] = s[i - 1][j] + gap\n",
    "                p[i][j] = (i - 1, j)\n",
    "            # vertical\n",
    "            if j > 0 and s[i][j - 1] + gap > s[i][j]:\n",
    "                s[i][j] = s[i][j - 1] + gap\n",
    "                p[i][j] = (i, j - 1)\n",
    "    \n",
    "    # recover the path\n",
    "    i_max, j_max = argmax_2d_array(s)\n",
    "    ans_s1, ans_s2 = recover_solution(p, s1, s2, local=local, local_i_start=i_max, local_j_start=j_max)\n",
    "    print(ans_s1, ans_s2, sep='\\n')"
   ],
   "metadata": {
    "collapsed": false,
    "pycharm": {
     "name": "#%%\n",
     "is_executing": false
    }
   }
  },
  {
   "cell_type": "markdown",
   "source": [
    "### Тест 1:\n",
    "Придумайте последовательности одинаковой длины и штрафы так, чтобы в получившемся выравнивании были и несовпадения и гэпы."
   ],
   "metadata": {
    "collapsed": false
   }
  },
  {
   "cell_type": "code",
   "execution_count": 28,
   "outputs": [
    {
     "name": "stdout",
     "text": [
      "--POLYNOMIAL\nEXPONEN-TIAL\n"
     ],
     "output_type": "stream"
    }
   ],
   "source": [
    "alignment('POLYNOMIAL', 'EXPONENTIAL')"
   ],
   "metadata": {
    "collapsed": false,
    "pycharm": {
     "name": "#%%\n",
     "is_executing": false
    }
   }
  },
  {
   "cell_type": "markdown",
   "source": [
    "### Тест 2:\n",
    "Для последовательностей из теста 1 запустите алгоритм с весами 1 (совпадение), -1 (несовпадение), -0.499 (гэп)."
   ],
   "metadata": {
    "collapsed": false
   }
  },
  {
   "cell_type": "code",
   "execution_count": 29,
   "outputs": [
    {
     "name": "stdout",
     "text": [
      "--PO--LYN-OMIAL\nEXPONE--NT--IAL\n"
     ],
     "output_type": "stream"
    }
   ],
   "source": [
    "alignment('POLYNOMIAL', 'EXPONENTIAL', match=1, mismatch=-1, gap=-0.499)"
   ],
   "metadata": {
    "collapsed": false,
    "pycharm": {
     "name": "#%%\n",
     "is_executing": false
    }
   }
  },
  {
   "cell_type": "markdown",
   "source": [
    "## 3. Выравнивание с матрицей весов (6 баллов)\n",
    "В предыдущей задаче вместо фиксированного штрафа использовать любую матрицу весов. Достаточно (3 + 1) на (3 + 1)."
   ],
   "metadata": {
    "collapsed": false,
    "pycharm": {
     "name": "#%% md\n"
    }
   }
  },
  {
   "cell_type": "code",
   "execution_count": 30,
   "outputs": [],
   "source": [
    "def global_alignment_with_weight_matrix(s1, s2, wss):\n",
    "    chr_to_ind = {'A': 1, 'B': 2, 'C': 3}\n",
    "    n, m = len(s1), len(s2)\n",
    "    \n",
    "    # initialize\n",
    "    s = [[M_INF  for _ in range(m + 1)] for _ in range(n + 1)]\n",
    "    p = [[(0, 0) for _ in range(m + 1)] for _ in range(n + 1)]\n",
    "    s[0][0] = 0\n",
    "    \n",
    "   # main algorithm\n",
    "    for i in range(n + 1):\n",
    "        for j in range(m + 1):\n",
    "            # diagonal\n",
    "            if i > 0 and j > 0 and s[i - 1][j - 1] + wss[chr_to_ind[s1[i - 1]]][chr_to_ind[s2[j - 1]]] > s[i][j]:\n",
    "                s[i][j] = s[i - 1][j - 1] + wss[chr_to_ind[s1[i - 1]]][chr_to_ind[s2[j - 1]]]\n",
    "                p[i][j] = (i - 1, j - 1)\n",
    "            # horizontal\n",
    "            if i > 0 and s[i - 1][j] + wss[chr_to_ind[s1[i - 1]]][0] > s[i][j]:\n",
    "                s[i][j] = s[i - 1][j] + wss[chr_to_ind[s1[i - 1]]][0]\n",
    "                p[i][j] = (i - 1, j)\n",
    "            # vertical\n",
    "            if j > 0 and s[i][j - 1] + wss[0][chr_to_ind[s2[j - 1]]] > s[i][j]:\n",
    "                s[i][j] = s[i][j - 1] + wss[0][chr_to_ind[s2[j - 1]]]\n",
    "                p[i][j] = (i, j - 1)\n",
    "    \n",
    "    # recover the path\n",
    "    ans_s1, ans_s2 = recover_solution(p, s1, s2)\n",
    "    print(ans_s1, ans_s2, sep='\\n')"
   ],
   "metadata": {
    "collapsed": false,
    "pycharm": {
     "name": "#%%\n",
     "is_executing": false
    }
   }
  },
  {
   "cell_type": "markdown",
   "source": [
    "### Тест: \n",
    "Придумайте последовательность и матрицу, выровняйте последовательности. Поменяйте в матрице одно число так, чтобы выравнивание поменялось."
   ],
   "metadata": {
    "collapsed": false
   }
  },
  {
   "cell_type": "code",
   "execution_count": 31,
   "outputs": [
    {
     "name": "stdout",
     "text": [
      "Before change:\nABC\nABB\n\nAfter change:\nA-BC\nAB-B\n"
     ],
     "output_type": "stream"
    }
   ],
   "source": [
    "wss = [[ 0, -2, -2, -2],\n",
    "       [-2,  5, -2, -1],\n",
    "       [-2, -2,  7,  0],\n",
    "       [-2, -1,  0,  6]]\n",
    "\n",
    "print('Before change:')\n",
    "global_alignment_with_weight_matrix('ABC', 'ABB', wss)\n",
    "\n",
    "wss[2][2] = -10\n",
    "print()\n",
    "print('After change:')\n",
    "global_alignment_with_weight_matrix('ABC', 'ABB', wss)"
   ],
   "metadata": {
    "collapsed": false,
    "pycharm": {
     "name": "#%%\n",
     "is_executing": false
    }
   }
  },
  {
   "cell_type": "markdown",
   "source": [
    "## 4. Локальное выравнивание (Смит-Ватерман) (6 баллов)\n",
    "Во 2 задаче найти оптимальное выравнивание всех возможных подслов двух последовательностей, то есть локальное выравнивание. \n",
    "В выводе должно быть понятно, где начинается и заканчивается локальное выравнивание.\n",
    "### Тест:\n",
    "Придумайте две последовательности, для которых локальное и глобальное выравнивание с одинаковыми штрафами дают разные результаты (на участке локального выравнивания)."
   ],
   "metadata": {
    "collapsed": false,
    "pycharm": {
     "name": "#%% md\n"
    }
   }
  },
  {
   "cell_type": "code",
   "execution_count": 32,
   "outputs": [
    {
     "name": "stdout",
     "text": [
      "global\n---T-CC-CAGT--TATGTCAGGGGACACGAGCATG-CAGAGAC\nAATTGCCGCCGTCGT-TTTCA---G-CA-G-TTATGTCAGA-TC\n\nlocal\n                  TCC|CAGTTATGTCAG|GGGACACGAGCATGCAGAGAC\nAATTGCCGCCGTCGTTTTCAG|CAGTTATGTCAG|ATC\n"
     ],
     "output_type": "stream"
    }
   ],
   "source": [
    "print('Global:')\n",
    "alignment('TCCCAGTTATGTCAGGGGACACGAGCATGCAGAGAC', 'AATTGCCGCCGTCGTTTTCAGCAGTTATGTCAGATC')\n",
    "\n",
    "print()\n",
    "print('Local:')\n",
    "alignment('TCCCAGTTATGTCAGGGGACACGAGCATGCAGAGAC', 'AATTGCCGCCGTCGTTTTCAGCAGTTATGTCAGATC', local=True)"
   ],
   "metadata": {
    "collapsed": false,
    "pycharm": {
     "name": "#%%\n",
     "is_executing": false
    }
   }
  }
 ],
 "metadata": {
  "kernelspec": {
   "display_name": "Python 3",
   "language": "python",
   "name": "python3"
  },
  "language_info": {
   "codemirror_mode": {
    "name": "ipython",
    "version": 2
   },
   "file_extension": ".py",
   "mimetype": "text/x-python",
   "name": "python",
   "nbconvert_exporter": "python",
   "pygments_lexer": "ipython2",
   "version": "2.7.6"
  },
  "pycharm": {
   "stem_cell": {
    "cell_type": "raw",
    "source": [],
    "metadata": {
     "collapsed": false
    }
   }
  }
 },
 "nbformat": 4,
 "nbformat_minor": 0
}