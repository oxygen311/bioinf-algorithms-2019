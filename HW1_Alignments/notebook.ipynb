{
 "cells": [
  {
   "cell_type": "markdown",
   "source": [
    "## Количество выравниваний (10 баллов).\n",
    "Вспомим про матрицу про подсчёта динамики с лекции. \n",
    "Данная матрица содержит все возможные варианты выравниваний, но некоторые из них эквивалентны, например:\n",
    "\n",
    "<img src=\"https://github.com/oxygen311/bioinf-algorithms-2019/blob/master/HW1_Alignments/images/equivalent-alignment-example.png?raw=true\" alt=\"Equivalent Alignment Example\" width=\"400\">\n",
    "\n",
    "Можно заметить, что на данной матрице \"жестко\" фиксируют выравнивание только диагональные стрелки. \n",
    "Горизонтальные же и вертикальные, которые проходят между ними, можно переставлять как угодно.\n",
    "\n",
    "Без ограничения общности будем считать, что $m < n$. \n",
    "Зафиксируем число диагональных стрелок $i: i \\leq m$.\n",
    "При фиксированном $i$ количнство варинтов расположить стрелок равно $\\binom n i \\binom m i$, для выбора горизонтальных и вертикальныъ координат диагональных стрелок.\n",
    "$i$ может принимать значения от $0$ до $m$, cледовательно итоговый ответ равен:\n",
    "$$\\sum_{i=0}^m \\binom n i \\binom m i = \\binom {n + m} m$$"
   ],
   "metadata": {
    "collapsed": false
   }
  }
 ],
 "metadata": {
  "kernelspec": {
   "display_name": "Python 3",
   "language": "python",
   "name": "python3"
  },
  "language_info": {
   "codemirror_mode": {
    "name": "ipython",
    "version": 2
   },
   "file_extension": ".py",
   "mimetype": "text/x-python",
   "name": "python",
   "nbconvert_exporter": "python",
   "pygments_lexer": "ipython2",
   "version": "2.7.6"
  },
  "pycharm": {
   "stem_cell": {
    "cell_type": "raw",
    "source": [],
    "metadata": {
     "collapsed": false
    }
   }
  }
 },
 "nbformat": 4,
 "nbformat_minor": 0
}