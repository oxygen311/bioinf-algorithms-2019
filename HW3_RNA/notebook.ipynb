{
 "cells": [
  {
   "cell_type": "markdown",
   "metadata": {
    "collapsed": true,
    "pycharm": {
     "name": "#%% md\n"
    }
   },
   "source": [
    "## RNA (26 баллов)\n",
    "Напишите программу, реализующую алгоритм Нуссинов, получающий вторичную структуру последовательности РНК с максимальным количеством спаренных оснований. \n",
    "Минимальный размер шпильки - 3. \n",
    "Вывод может быть как графический, так и представлять собой просто список спаренных оснований."
   ]
  },
  {
   "cell_type": "code",
   "execution_count": 1,
   "outputs": [],
   "source": [
    "# pattern matching library for nicer answer recovery\n",
    "from pampy import match, _\n",
    "\n",
    "# for visualization\n",
    "import networkx as nx\n",
    "import matplotlib.pyplot as plt"
   ],
   "metadata": {
    "collapsed": false,
    "pycharm": {
     "name": "#%%\n",
     "is_executing": false
    }
   }
  },
  {
   "cell_type": "code",
   "execution_count": 2,
   "outputs": [],
   "source": [
    "is_pair = lambda n1, n2: \\\n",
    "        (n1 == 'A' and n2 == 'U') or (n1 == 'U' and n2 == 'A') or (n1 == 'G' and n2 == 'C') or (n1 == 'C' and n2 == 'G')\n",
    "\n",
    "def recover_answer(p, rna):\n",
    "    rec = lambda i, j: match(p[i][j],\n",
    "        (int, int),               lambda pi, pj:             rec(pi,  pj ) | ({(i, j)} if (i + 1, j - 1) == (pi, pj) else set()),\n",
    "        ((int, int), (int, int)), lambda p1i, p1j, p2i, p2j: rec(p1i, p1j) | rec(p2i, p2j),\n",
    "        _,                        lambda _: set(),\n",
    "    )\n",
    "    return rec(0, len(rna) - 1)\n",
    "\n",
    "\n",
    "def draw_answer(rna, pairs):\n",
    "    g = nx.Graph()\n",
    "    g.add_nodes_from([f'{i}:{n}' for i,n in enumerate(rna)])\n",
    "    g.add_edges_from([(f'{s}:{rna[s]}', f'{e}:{rna[e]}') for s, e in pairs])\n",
    "    nx.draw(g, nx.circular_layout(g), alpha=0.5, node_color='white', edge_color='blue', with_labels=True)\n",
    "    plt.axis('equal')\n",
    "    plt.show()\n",
    "    \n",
    "\n",
    "def rna_secondary_structure(rna, min_stem_loop=3):\n",
    "    n = len(rna)\n",
    "    \n",
    "    # initialize\n",
    "    s = [[-1 for _ in range(n)] for _ in range(n)]\n",
    "    p = [[-1 for _ in range(n)] for _ in range(n)]\n",
    "    \n",
    "    # lazy dynamic\n",
    "    def rec(i, j):\n",
    "        if j - i <= min_stem_loop: return 0\n",
    "        if s[i][j] != -1: return s[i][j]\n",
    "        # vertical\n",
    "        if rec(i + 1, j) > s[i][j]:\n",
    "            p[i][j] = (i + 1, j)\n",
    "            s[i][j] = rec(i + 1, j)\n",
    "        # horizontal\n",
    "        if rec(i, j - 1) > s[i][j]:\n",
    "            p[i][j] = (i, j - 1)\n",
    "            s[i][j] = rec(i, j - 1)\n",
    "        # diagonal\n",
    "        if is_pair(rna[i], rna[j]) and rec(i + 1, j - 1) + 1 > s[i][j]:\n",
    "            p[i][j] = (i + 1, j - 1)\n",
    "            s[i][j] = rec(i + 1, j - 1) + 1\n",
    "        # merging\n",
    "        for k in (i + 1, j):\n",
    "            if rec(i, k) + rec(k + 1, j) > s[i][j]:\n",
    "                p[i][j] = ((i, k), (k + 1, j))\n",
    "                s[i][j] = rec(i, k) + rec(k + 1, j)\n",
    "        return s[i][j]\n",
    "            \n",
    "    print('Number of paired bases:', rec(0, n - 1))\n",
    "    pairs = recover_answer(p, rna)\n",
    "    draw_answer(rna, pairs)\n",
    "    "
   ],
   "metadata": {
    "collapsed": false,
    "pycharm": {
     "name": "#%%\n",
     "is_executing": false
    }
   }
  },
  {
   "cell_type": "markdown",
   "source": [
    "### Тест 1. GGACC\n",
    "Ожидаемое число спаренных оснований - 1."
   ],
   "metadata": {
    "collapsed": false,
    "pycharm": {
     "name": "#%% md\n"
    }
   }
  },
  {
   "cell_type": "code",
   "execution_count": 3,
   "outputs": [
    {
     "name": "stdout",
     "text": [
      "Number of paired bases: 1\n"
     ],
     "output_type": "stream"
    },
    {
     "data": {
      "text/plain": "<Figure size 432x288 with 1 Axes>",
      "image/png": "[encoded data removed]"
     },
     "metadata": {},
     "output_type": "display_data"
    }
   ],
   "source": [
    "rna_secondary_structure('GGACC')"
   ],
   "metadata": {
    "collapsed": false,
    "pycharm": {
     "name": "#%%\n",
     "is_executing": false
    }
   }
  },
  {
   "cell_type": "markdown",
   "source": [
    "### Тест 2. AAACAUGAGGAUUACCCAUGU\n",
    "Ожидаемое число спаренных оснований - 7."
   ],
   "metadata": {
    "collapsed": false
   }
  },
  {
   "cell_type": "code",
   "execution_count": 4,
   "outputs": [
    {
     "name": "stdout",
     "text": [
      "Number of paired bases: 7\n"
     ],
     "output_type": "stream"
    },
    {
     "data": {
      "text/plain": "<Figure size 432x288 with 1 Axes>",
      "image/png": "[encoded data removed]"
     },
     "metadata": {},
     "output_type": "display_data"
    }
   ],
   "source": [
    "rna_secondary_structure('AAACAUGAGGAUUACCCAUGU')\n"
   ],
   "metadata": {
    "collapsed": false,
    "pycharm": {
     "name": "#%%\n",
     "is_executing": false
    }
   }
  }
 ],
 "metadata": {
  "kernelspec": {
   "display_name": "Python 3",
   "language": "python",
   "name": "python3"
  },
  "language_info": {
   "codemirror_mode": {
    "name": "ipython",
    "version": 2
   },
   "file_extension": ".py",
   "mimetype": "text/x-python",
   "name": "python",
   "nbconvert_exporter": "python",
   "pygments_lexer": "ipython2",
   "version": "2.7.6"
  },
  "pycharm": {
   "stem_cell": {
    "cell_type": "raw",
    "source": [],
    "metadata": {
     "collapsed": false
    }
   }
  }
 },
 "nbformat": 4,
 "nbformat_minor": 0
}