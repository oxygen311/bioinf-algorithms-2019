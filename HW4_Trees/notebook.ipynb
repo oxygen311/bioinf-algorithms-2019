{
 "cells": [
  {
   "cell_type": "markdown",
   "source": [
    "# Количество деревьев\n",
    "## 1. (10 баллов) Сколько существует возможных укорененных и неукорененных топологий деревьев на N листьях?\n",
    "\n",
    "### Укорененные деревья\n",
    "Укорененное бинарное дерево на $n$ листьях может быть сформировано путем добавления $n$-го листа \n",
    "в середине любого из ребер укорененного дерева на $n - 1$ листьях.\n",
    "Для дерева на $n-1$ листьях сузетсвует $2n-3$ рёбер, к которым может быть присоеденен новый лист: $2n-4$ рёбер и корень.\n",
    "Значит $R(n) = (2n-3)R(n-1)$.\n",
    "Зная базу индукции получаем итоговую формулу:\n",
    "$$R(n) = 1 \\cdot 3 \\cdot 5 \\cdot \\ldots \\cdot (2n-3) = (2n-3)!!$$\n",
    "\n",
    "### Неукорененные деревья\n",
    "Аналогично, только количетво подходящиъ рёбер равно $2n-5$ на каждом шаге:\n",
    "$$U(n)=1 \\cdot 3 \\cdot 5 \\cdot \\ldots \\cdot (2n-5) = (2n-5)!!$$\n"
   ],
   "metadata": {
    "collapsed": false,
    "pycharm": {
     "name": "#%% md\n"
    }
   }
  },
  {
   "cell_type": "markdown",
   "source": [
    "# Построение деревьев\n",
    "\n",
    "## (18 баллов) Напишите программу, реализующую алгоритмы WPGMA и UPGMA."
   ],
   "metadata": {
    "collapsed": false
   }
  },
  {
   "cell_type": "code",
   "execution_count": 1,
   "outputs": [],
   "source": [
    "from pprint import pprint\n",
    "import numpy as np"
   ],
   "metadata": {
    "collapsed": false,
    "pycharm": {
     "name": "#%%\n",
     "is_executing": false
    }
   }
  },
  {
   "cell_type": "code",
   "execution_count": 2,
   "outputs": [],
   "source": [
    "def wpgma(ds):\n",
    "    while len(ds) > 1:\n",
    "        old_node1, old_node2 = min(ds, key=ds.get)\n",
    "        new_node = (old_node1, old_node2)\n",
    "        \n",
    "        for node in set([n for ns in ds.keys() for n in ns]) - {old_node1, old_node2}:\n",
    "            ds[frozenset([new_node, node])] = (ds[frozenset([old_node1, node])] + ds[frozenset([old_node2, node])]) / 2\n",
    "            \n",
    "        ds = {k: v for k, v in ds.items() if (old_node1 not in k and old_node2 not in k)}\n",
    "    return str(next(iter(ds))).replace('frozenset', '').replace('}', ''). replace('{', '')\n",
    "\n",
    "def upgma(ds):\n",
    "    cluster_size = lambda n: str(n).count('(') + 1 # :)\n",
    "    \n",
    "    while len(ds) > 1:\n",
    "        old_node1, old_node2 = min(ds, key=ds.get)\n",
    "        ons1, ons2 = cluster_size(old_node1), cluster_size(old_node2)\n",
    "        \n",
    "        new_node = (old_node1, old_node2)\n",
    "\n",
    "        for node in set([n for ns in ds.keys() for n in ns]) - {old_node1, old_node2}:\n",
    "            ds[frozenset([new_node, node])] = \\\n",
    "                (ds[frozenset([old_node1, node])] * ons1 + ds[frozenset([old_node2, node])] * ons2) / (ons1 + ons2)\n",
    "\n",
    "        ds = {k: v for k, v in ds.items() if (old_node1 not in k and old_node2 not in k)}\n",
    "    return str(next(iter(ds))).replace('frozenset', '').replace('}', ''). replace('{', '')"
   ],
   "metadata": {
    "collapsed": false,
    "pycharm": {
     "name": "#%%\n",
     "is_executing": false
    }
   }
  },
  {
   "cell_type": "markdown",
   "source": [
    "# Построение деревьев\n",
    "\n",
    "## (18 баллов) Напишите программу, реализующую алгоритмы WPGMA и UPGMA.\n"
   ],
   "metadata": {
    "collapsed": false,
    "pycharm": {
     "name": "#%% md\n"
    }
   }
  },
  {
   "cell_type": "code",
   "execution_count": 3,
   "outputs": [],
   "source": [
    "def nj(ds):\n",
    "    def m(ds, ns):\n",
    "        n1, n2 = ns\n",
    "        return np.mean([d for ns, d in ds.items() if n1 in ns and not n2 in ns])\n",
    "    \n",
    "    while len(ds) > 1:\n",
    "        new_ds = {ns: (d - m(ds, ns) - m(ds, ns)) for ns, d in ds.items()}\n",
    "        \n",
    "        old_node1, old_node2 = min(ds, key=new_ds.get)\n",
    "        new_node = (old_node1, old_node2)\n",
    "        \n",
    "        for node in set([n for ns in ds.keys() for n in ns]) - {old_node1, old_node2}:\n",
    "            ds[frozenset([new_node, node])] = \\\n",
    "                (ds[frozenset([old_node1, node])] + ds[frozenset([old_node2, node])] - ds[frozenset([old_node1, old_node2])]) / 2\n",
    "            \n",
    "        ds = {k: v for k, v in ds.items() if (old_node1 not in k and old_node2 not in k)}\n",
    "        \n",
    "    return str(next(iter(ds))).replace('frozenset', '').replace('}', ''). replace('{', '')\n"
   ],
   "metadata": {
    "collapsed": false,
    "pycharm": {
     "name": "#%%\n",
     "is_executing": false
    }
   }
  },
  {
   "cell_type": "markdown",
   "source": [
    "## Тесты (для обеих задач):\n",
    "## Тест 1"
   ],
   "metadata": {
    "collapsed": false,
    "pycharm": {
     "name": "#%% md\n"
    }
   }
  },
  {
   "cell_type": "code",
   "execution_count": 4,
   "outputs": [
    {
     "name": "stdout",
     "text": [
      "WPGMA: (('B', ('C', 'D')), 'A')\nUPGMA: (('B', ('C', 'D')), 'A')\nNeighbor joining: (('B', ('C', 'D')), 'A')\n"
     ],
     "output_type": "stream"
    }
   ],
   "source": [
    "# frozenset for not caring about order of element (can't use simple set because it's mutable and unhashable)\n",
    "t1 = {\n",
    "    frozenset(['A', 'B']): 16,\n",
    "    frozenset(['A', 'C']): 16,\n",
    "    frozenset(['A', 'D']): 10,\n",
    "    frozenset(['B', 'C']): 8,\n",
    "    frozenset(['B', 'D']): 8,\n",
    "    frozenset(['C', 'D']): 4\n",
    "}\n",
    "\n",
    "print('WPGMA:', wpgma(dict(t1)))\n",
    "print('UPGMA:', upgma(dict(t1)))\n",
    "print('Neighbor joining:', nj(dict(t1)))"
   ],
   "metadata": {
    "collapsed": false,
    "pycharm": {
     "name": "#%%\n",
     "is_executing": false
    }
   }
  },
  {
   "cell_type": "markdown",
   "source": [
    "## Тесты (для обеих задач):\n",
    "## Тест 2"
   ],
   "metadata": {
    "collapsed": false
   }
  },
  {
   "cell_type": "code",
   "execution_count": 5,
   "outputs": [
    {
     "name": "stdout",
     "text": [
      "WPGMA: ('F', (('B', ('C', 'A')), ('E', 'D')))\nUPGMA: ('F', (('B', ('C', 'A')), ('E', 'D')))\nNeighbor joining: (('E', ('F', (('B', 'A'), 'C'))), 'D')\n"
     ],
     "output_type": "stream"
    }
   ],
   "source": [
    "t2 = {\n",
    "    frozenset(['A', 'B']): 5,\n",
    "    frozenset(['A', 'C']): 4,\n",
    "    frozenset(['A', 'D']): 7,\n",
    "    frozenset(['A', 'E']): 6,\n",
    "    frozenset(['A', 'F']): 8,\n",
    "    frozenset(['B', 'C']): 7,\n",
    "    frozenset(['B', 'D']): 10,\n",
    "    frozenset(['B', 'E']): 9,\n",
    "    frozenset(['B', 'F']): 11,\n",
    "    frozenset(['C', 'D']): 7,\n",
    "    frozenset(['C', 'E']): 6,\n",
    "    frozenset(['C', 'F']): 8,\n",
    "    frozenset(['D', 'E']): 5,\n",
    "    frozenset(['D', 'F']): 9,\n",
    "    frozenset(['E', 'F']): 8\n",
    "}\n",
    "\n",
    "print('WPGMA:', wpgma(dict(t2)))\n",
    "print('UPGMA:', upgma(dict(t2)))\n",
    "print('Neighbor joining:', nj(dict(t2)))"
   ],
   "metadata": {
    "collapsed": false,
    "pycharm": {
     "name": "#%%\n",
     "is_executing": false
    }
   }
  }
 ],
 "metadata": {
  "kernelspec": {
   "display_name": "Python 3",
   "language": "python",
   "name": "python3"
  },
  "language_info": {
   "codemirror_mode": {
    "name": "ipython",
    "version": 2
   },
   "file_extension": ".py",
   "mimetype": "text/x-python",
   "name": "python",
   "nbconvert_exporter": "python",
   "pygments_lexer": "ipython2",
   "version": "2.7.6"
  },
  "pycharm": {
   "stem_cell": {
    "cell_type": "raw",
    "source": [],
    "metadata": {
     "collapsed": false
    }
   }
  }
 },
 "nbformat": 4,
 "nbformat_minor": 0
}