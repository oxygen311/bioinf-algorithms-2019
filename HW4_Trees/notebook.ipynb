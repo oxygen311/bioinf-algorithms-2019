{
 "cells": [
  {
   "cell_type": "markdown",
   "source": [
    "# Количество деревьев\n",
    "## 1. (10 баллов) Сколько существует возможных укорененных и неукорененных топологий деревьев на N листьях?\n",
    "\n",
    "### Укорененные деревья\n",
    "Укорененное бинарное дерево на $n$ листьях может быть сформировано путем добавления $n$-го листа \n",
    "в середине любого из ребер укорененного дерева на $n - 1$ листьях.\n",
    "Для дерева на $n-1$ листьях сузетсвует $2n-3$ рёбер, к которым может быть присоеденен новый лист: $2n-4$ рёбер и корень.\n",
    "Значит $R(n) = (2n-3)R(n-1)$.\n",
    "Зная базу индукции получаем итоговую формулу:\n",
    "$$R(n) = 1 \\cdot 3 \\cdot 5 \\cdot \\ldots \\cdot (2n-3) = (2n-3)!!$$\n",
    "\n",
    "### Неукорененные деревья\n",
    "Аналогично, только количетво подходящиъ рёбер равно $2n-5$ на каждом шаге:\n",
    "$$U(n)=1 \\cdot 3 \\cdot 5 \\cdot \\ldots \\cdot (2n-5) = (2n-5)!!$$\n"
   ],
   "metadata": {
    "collapsed": false,
    "pycharm": {
     "name": "#%% md\n"
    }
   }
  },
  {
   "cell_type": "markdown",
   "source": [
    "# Построение деревьев\n",
    "\n",
    "## (18 баллов) Напишите программу, реализующую алгоритмы WPGMA и UPGMA."
   ],
   "metadata": {
    "collapsed": false
   }
  },
  {
   "cell_type": "code",
   "execution_count": 1,
   "outputs": [],
   "source": [
    "from pprint import pprint\n",
    "from pampy import match, _\n",
    "from collections import defaultdict\n",
    "\n",
    "import numpy as np"
   ],
   "metadata": {
    "collapsed": false,
    "pycharm": {
     "name": "#%%\n",
     "is_executing": false
    }
   }
  },
  {
   "cell_type": "code",
   "execution_count": 2,
   "outputs": [],
   "source": [
    "def rec_ans(n, ds):\n",
    "    if isinstance(n, str): return n\n",
    "    \n",
    "    it = iter(n)\n",
    "    chld1 = next(it)\n",
    "    chld2 = next(it)\n",
    "    \n",
    "    return f'({rec_ans(chld1, ds)}{\":\" + str(ds[(node_name(n), node_name(chld1))])},' \\\n",
    "           f'{rec_ans(chld2, ds)}{\":\" + str(ds[(node_name(n), node_name(chld2))])})'\n",
    "\n",
    "def dist_to_leaf(n, ds):\n",
    "    if isinstance(n, str): return 0\n",
    "    any_chld = next(iter(n))\n",
    "    return ds[(node_name(n), node_name(any_chld))] + dist_to_leaf(any_chld, ds)\n",
    "    \n",
    "def node_name(n):\n",
    "    return match(n,\n",
    "                 str, lambda s: s,\n",
    "                 _,   lambda n: ''.join([node_name(cn) for cn in n]))\n",
    "    \n",
    "def wpgma(ds):\n",
    "    rec_ds = {}\n",
    "    while True:\n",
    "        old_node1, old_node2 = min(ds, key=ds.get)\n",
    "        new_node = (old_node1, old_node2)\n",
    "        \n",
    "        rec_ds[(node_name(new_node), node_name(old_node1))] = min(ds.values()) / 2 - dist_to_leaf(old_node1, rec_ds)\n",
    "        rec_ds[(node_name(new_node), node_name(old_node2))] = min(ds.values()) / 2 - dist_to_leaf(old_node2, rec_ds)\n",
    "        \n",
    "        if len(ds) <= 1: break\n",
    "        \n",
    "        for node in set([n for ns in ds.keys() for n in ns]) - {old_node1, old_node2}:\n",
    "            ds[frozenset([new_node, node])] = \\\n",
    "                    (ds[frozenset([old_node1, node])] + ds[frozenset([old_node2, node])]) / 2\n",
    "            \n",
    "        ds = {k: v for k, v in ds.items() if (old_node1 not in k and old_node2 not in k)}\n",
    "        \n",
    "    return rec_ans(next(iter(ds)), rec_ds)\n",
    "\n",
    "def upgma(ds):\n",
    "    rec_ds = {}\n",
    "    cluster_size = lambda n: str(n).count('(') + 1 # :)\n",
    "    \n",
    "    while True:\n",
    "        old_node1, old_node2 = min(ds, key=ds.get)\n",
    "        ons1, ons2 = cluster_size(old_node1), cluster_size(old_node2)\n",
    "        \n",
    "        new_node = (old_node1, old_node2)\n",
    "        \n",
    "        rec_ds[(node_name(new_node), node_name(old_node1))] = min(ds.values()) / 2 - dist_to_leaf(old_node1, rec_ds)\n",
    "        rec_ds[(node_name(new_node), node_name(old_node2))] = min(ds.values()) / 2 - dist_to_leaf(old_node2, rec_ds)\n",
    "        \n",
    "        if len(ds) <= 1: break\n",
    "\n",
    "        for node in set([n for ns in ds.keys() for n in ns]) - {old_node1, old_node2}:\n",
    "            ds[frozenset([new_node, node])] = \\\n",
    "                (ds[frozenset([old_node1, node])] * ons1 + ds[frozenset([old_node2, node])] * ons2) / (ons1 + ons2)\n",
    "\n",
    "        ds = {k: v for k, v in ds.items() if (old_node1 not in k and old_node2 not in k)}\n",
    "    return rec_ans(next(iter(ds)), rec_ds)"
   ],
   "metadata": {
    "collapsed": false,
    "pycharm": {
     "name": "#%%\n",
     "is_executing": false
    }
   }
  },
  {
   "cell_type": "markdown",
   "source": [
    "# Построение деревьев\n",
    "\n",
    "## (18 баллов) Напишите программу, реализующую алгоритмы WPGMA и UPGMA.\n"
   ],
   "metadata": {
    "collapsed": false,
    "pycharm": {
     "name": "#%% md\n"
    }
   }
  },
  {
   "cell_type": "code",
   "execution_count": 3,
   "outputs": [],
   "source": [
    "def nj(ds):\n",
    "    rec_ds = defaultdict(lambda: -1)\n",
    "    def m(ds, ns):\n",
    "        n1, n2 = ns\n",
    "        vs = [d for ns, d in ds.items() if n1 in ns and not n2 in ns]\n",
    "        return np.mean(vs) if len(vs) > 0 else 0\n",
    "    \n",
    "    while True:\n",
    "        new_ds = {ns: (d - m(ds, ns) - m(ds, ns)) for ns, d in ds.items()}\n",
    "        \n",
    "        old_node1, old_node2 = min(ds, key=new_ds.get)\n",
    "        new_node = (old_node1, old_node2)\n",
    "        \n",
    "        m_ab = m(ds, (old_node1, old_node2))\n",
    "        m_ba = m(ds, (old_node2, old_node1))\n",
    "        \n",
    "        rec_ds[(node_name(new_node), node_name(old_node1))] = (min(ds.values()) + m_ab - m_ba) / 2\n",
    "        rec_ds[(node_name(new_node), node_name(old_node2))] = (min(ds.values()) - m_ab + m_ba) / 2\n",
    "        \n",
    "        if len(ds) <= 1: break\n",
    "        \n",
    "        for node in set([n for ns in ds.keys() for n in ns]) - {old_node1, old_node2}:\n",
    "            ds[frozenset([new_node, node])] = \\\n",
    "                (ds[frozenset([old_node1, node])] + ds[frozenset([old_node2, node])] - ds[frozenset([old_node1, old_node2])]) / 2\n",
    "            \n",
    "        ds = {k: v for k, v in ds.items() if (old_node1 not in k and old_node2 not in k)}\n",
    "    return rec_ans(next(iter(ds)), rec_ds)\n"
   ],
   "metadata": {
    "collapsed": false,
    "pycharm": {
     "name": "#%%\n",
     "is_executing": false
    }
   }
  },
  {
   "cell_type": "markdown",
   "source": [
    "## Тесты (для обеих задач):\n",
    "## Тест 1"
   ],
   "metadata": {
    "collapsed": false,
    "pycharm": {
     "name": "#%% md\n"
    }
   }
  },
  {
   "cell_type": "code",
   "execution_count": 4,
   "outputs": [
    {
     "name": "stdout",
     "text": [
      "WPGMA: ((B:4.0,(C:2.0,D:2.0):2.0):3.25,A:7.25)\nUPGMA: ((B:4.0,(C:2.0,D:2.0):2.0):3.0,A:7.0)\nNeighbor joining: ((B:5.5,(C:3.5,D:0.5):0.5):5.25,A:5.25)\n"
     ],
     "output_type": "stream"
    }
   ],
   "source": [
    "# frozenset for not caring about order of element (can't use simple set because it's mutable and unhashable)\n",
    "t1 = {\n",
    "    frozenset(['A', 'B']): 16,\n",
    "    frozenset(['A', 'C']): 16,\n",
    "    frozenset(['A', 'D']): 10,\n",
    "    frozenset(['B', 'C']): 8,\n",
    "    frozenset(['B', 'D']): 8,\n",
    "    frozenset(['C', 'D']): 4\n",
    "}\n",
    "\n",
    "print('WPGMA:', wpgma(dict(t1)))\n",
    "print('UPGMA:', upgma(dict(t1)))\n",
    "print('Neighbor joining:', nj(dict(t1)))"
   ],
   "metadata": {
    "collapsed": false,
    "pycharm": {
     "name": "#%%\n",
     "is_executing": false
    }
   }
  },
  {
   "cell_type": "markdown",
   "source": [
    "## Тесты (для обеих задач):\n",
    "## Тест 2"
   ],
   "metadata": {
    "collapsed": false
   }
  },
  {
   "cell_type": "code",
   "execution_count": 5,
   "outputs": [
    {
     "name": "stdout",
     "text": [
      "WPGMA: ((((C:2.0,A:2.0):1.0,B:3.0):1.0,(D:2.5,E:2.5):1.5):0.5,F:4.5)\nUPGMA: ((((C:2.0,A:2.0):1.0,B:3.0):0.75,(D:2.5,E:2.5):1.25):0.6500000000000004,F:4.4)\nNeighbor joining: (((C:2.0,(B:3.5,A:0.5):1.0):1.0,(D:2.5,E:1.5):1.0):2.5,F:2.5)\n"
     ],
     "output_type": "stream"
    }
   ],
   "source": [
    "t2 = {\n",
    "    frozenset(['A', 'B']): 5,\n",
    "    frozenset(['A', 'C']): 4,\n",
    "    frozenset(['A', 'D']): 7,\n",
    "    frozenset(['A', 'E']): 6,\n",
    "    frozenset(['A', 'F']): 8,\n",
    "    frozenset(['B', 'C']): 7,\n",
    "    frozenset(['B', 'D']): 10,\n",
    "    frozenset(['B', 'E']): 9,\n",
    "    frozenset(['B', 'F']): 11,\n",
    "    frozenset(['C', 'D']): 7,\n",
    "    frozenset(['C', 'E']): 6,\n",
    "    frozenset(['C', 'F']): 8,\n",
    "    frozenset(['D', 'E']): 5,\n",
    "    frozenset(['D', 'F']): 9,\n",
    "    frozenset(['E', 'F']): 8\n",
    "}\n",
    "\n",
    "print('WPGMA:', wpgma(dict(t2)))\n",
    "print('UPGMA:', upgma(dict(t2)))\n",
    "print('Neighbor joining:', nj(dict(t2)))"
   ],
   "metadata": {
    "collapsed": false,
    "pycharm": {
     "name": "#%%\n",
     "is_executing": false
    }
   }
  }
 ],
 "metadata": {
  "kernelspec": {
   "display_name": "Python 3",
   "language": "python",
   "name": "python3"
  },
  "language_info": {
   "codemirror_mode": {
    "name": "ipython",
    "version": 2
   },
   "file_extension": ".py",
   "mimetype": "text/x-python",
   "name": "python",
   "nbconvert_exporter": "python",
   "pygments_lexer": "ipython2",
   "version": "2.7.6"
  },
  "pycharm": {
   "stem_cell": {
    "cell_type": "raw",
    "source": [],
    "metadata": {
     "collapsed": false
    }
   }
  }
 },
 "nbformat": 4,
 "nbformat_minor": 0
}